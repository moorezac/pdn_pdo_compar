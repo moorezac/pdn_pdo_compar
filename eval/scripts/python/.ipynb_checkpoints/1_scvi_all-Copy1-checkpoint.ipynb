{
 "cells": [
  {
   "cell_type": "code",
   "execution_count": 1,
   "id": "a26fde6a-8de0-4fff-9773-fe06c6078684",
   "metadata": {},
   "outputs": [
    {
     "name": "stderr",
     "output_type": "stream",
     "text": [
      "/home/users/allstaff/moore.z/.conda/envs/scvi-env/lib/python3.12/site-packages/tqdm/auto.py:21: TqdmWarning: IProgress not found. Please update jupyter and ipywidgets. See https://ipywidgets.readthedocs.io/en/stable/user_install.html\n",
      "  from .autonotebook import tqdm as notebook_tqdm\n"
     ]
    }
   ],
   "source": [
    "import scvi\n",
    "import os\n",
    "import tempfile\n",
    "import scanpy as sc\n",
    "import seaborn as sns\n",
    "import torch\n",
    "import pandas as pd\n",
    "from rich import print\n",
    "import numpy as np\n",
    "import matplotlib.pyplot as plt\n",
    "import skmisc"
   ]
  },
  {
   "cell_type": "code",
   "execution_count": 2,
   "id": "ef06edbc-c8d2-474d-9028-107cbcd96674",
   "metadata": {},
   "outputs": [],
   "source": [
    "torch.set_float32_matmul_precision('high')"
   ]
  },
  {
   "cell_type": "code",
   "execution_count": 3,
   "id": "487ee819-316b-4845-8991-e2bc8f498d60",
   "metadata": {
    "scrolled": true
   },
   "outputs": [
    {
     "data": {
      "text/plain": [
       "AnnData object with n_obs × n_vars = 19198 × 5000\n",
       "    obs: 'orig.ident', 'nCount_RNA', 'nFeature_RNA', 'bc_wells', 'sample', 'gene_count', 'tscp_count', 'mread_count', 'bc1_wind', 'bc2_wind', 'bc3_wind', 'bc1_well', 'bc2_well', 'bc3_well', 'line', 'type', 'numbat_clone', 'numbat_compartment', 'numbat_p', 'S.Score', 'G2M.Score', 'Phase', 'percent_mito', 'RNA_snn_res.0.8', 'seurat_clusters', 'scores.Astro.x', 'scores.Mesenchymal.x', 'scores.Neuronal.x', 'scores.Oligo.x', 'scores.Progenitor.x', 'scores.Unassigned.x', 'labels.x', 'delta.next.x', 'pruned.labels.x', 'pruned.labels.ruiz.x', 'new_label.ruiz.x', 'scores.Astro.y', 'scores.Mesenchymal.y', 'scores.Neuronal.y', 'scores.Oligo.y', 'scores.Progenitor.y', 'scores.Unassigned.y', 'labels.y', 'delta.next.y', 'pruned.labels.y', 'pruned.labels.ruiz.y', 'new_label.ruiz.y', 'individual_normal_clusters', 'numbat_filtered', 'scores.Astro', 'scores.Mesenchymal', 'scores.Neuronal', 'scores.Oligo', 'scores.Progenitor', 'scores.Unassigned', 'labels', 'delta.next', 'pruned.labels', 'pruned.labels.ruiz', 'new_label.ruiz'\n",
       "    var: 'vf_vst_counts.1_mean', 'vf_vst_counts.1_variance', 'vf_vst_counts.1_variance.expected', 'vf_vst_counts.1_variance.standardized', 'vf_vst_counts.1_variable', 'vf_vst_counts.1_rank', 'vf_vst_counts.2_mean', 'vf_vst_counts.2_variance', 'vf_vst_counts.2_variance.expected', 'vf_vst_counts.2_variance.standardized', 'vf_vst_counts.2_variable', 'vf_vst_counts.2_rank', 'vf_vst_counts.3_mean', 'vf_vst_counts.3_variance', 'vf_vst_counts.3_variance.expected', 'vf_vst_counts.3_variance.standardized', 'vf_vst_counts.3_variable', 'vf_vst_counts.3_rank', 'vf_vst_counts.4_mean', 'vf_vst_counts.4_variance', 'vf_vst_counts.4_variance.expected', 'vf_vst_counts.4_variance.standardized', 'vf_vst_counts.4_variable', 'vf_vst_counts.4_rank', 'vf_vst_counts_mean', 'vf_vst_counts_variance', 'vf_vst_counts_variance.expected', 'vf_vst_counts_variance.standardized', 'vf_vst_counts_rank', 'var.features', 'var.features.rank'\n",
       "    obsm: 'X_pca', 'X_umap'\n",
       "    layers: 'counts'"
      ]
     },
     "execution_count": 3,
     "metadata": {},
     "output_type": "execute_result"
    }
   ],
   "source": [
    "adata = sc.read(\"/vast/scratch/users/moore.z/pdo_compar/data/intermed/1_seurat_all_anndata.h5ad\")\n",
    "adata.X = adata.layers[\"counts\"]\n",
    "adata"
   ]
  },
  {
   "cell_type": "code",
   "execution_count": 4,
   "id": "812fabaa-e3b2-44ed-8503-b55c2d51b1c8",
   "metadata": {},
   "outputs": [],
   "source": [
    "from scipy import sparse\n",
    "\n",
    "sparse_X = sparse.csr_matrix(adata.X)\n",
    "adata.X = sparse_X"
   ]
  },
  {
   "cell_type": "code",
   "execution_count": 5,
   "id": "0d356889-3e47-40e9-9928-f65a73aedd1a",
   "metadata": {},
   "outputs": [
    {
     "name": "stderr",
     "output_type": "stream",
     "text": [
      "[rank: 0] Global seed set to 42\n",
      "GPU available: True (cuda), used: True\n",
      "TPU available: False, using: 0 TPU cores\n",
      "IPU available: False, using: 0 IPUs\n",
      "HPU available: False, using: 0 HPUs\n",
      "LOCAL_RANK: 0 - CUDA_VISIBLE_DEVICES: [0]\n",
      "SLURM auto-requeueing enabled. Setting signal handlers.\n"
     ]
    },
    {
     "name": "stdout",
     "output_type": "stream",
     "text": [
      "Epoch 158/1000:  16%|█▌        | 158/1000 [02:46<14:46,  1.05s/it, v_num=1, train_loss_step=1.79e+3, train_loss_epoch=1.77e+3]\n",
      "Monitored metric elbo_validation did not improve in the last 45 records. Best score: 1831.166. Signaling Trainer to stop.\n"
     ]
    }
   ],
   "source": [
    "# integration with scVI\n",
    "scvi.model.SCVI.setup_anndata(\n",
    "    adata = adata, \n",
    "    batch_key = \"sample\"\n",
    ")\n",
    "# create model\n",
    "scvi_model = scvi.model.SCVI(\n",
    "    adata = adata,\n",
    "    n_hidden = 128,\n",
    "    n_latent = 50,\n",
    "    dispersion = \"gene-batch\"\n",
    ")\n",
    "scvi.settings.seed = 42\n",
    "# train model \n",
    "scvi_model.train(\n",
    "    max_epochs = 1000, \n",
    "    early_stopping = True,\n",
    "    accelerator = \"gpu\"\n",
    ")"
   ]
  },
  {
   "cell_type": "code",
   "execution_count": 6,
   "id": "a066c5c1-f119-4d53-b36d-ef35cc39684b",
   "metadata": {
    "scrolled": true
   },
   "outputs": [
    {
     "data": {
      "text/plain": [
       "<Axes: xlabel='epoch'>"
      ]
     },
     "execution_count": 6,
     "metadata": {},
     "output_type": "execute_result"
    },
    {
     "data": {
      "image/png": "[encoded data removed]",
      "text/plain": [
       "<Figure size 640x480 with 1 Axes>"
      ]
     },
     "metadata": {},
     "output_type": "display_data"
    }
   ],
   "source": [
    "scvi_model.history[\"elbo_validation\"].plot()"
   ]
  },
  {
   "cell_type": "code",
   "execution_count": 7,
   "id": "c165d7ec-0830-49de-9c03-ae6edb5e696d",
   "metadata": {},
   "outputs": [],
   "source": [
    "SCVI_LATENT_KEY = \"X_scVI\"\n",
    "adata.obsm[SCVI_LATENT_KEY] = scvi_model.get_latent_representation()"
   ]
  },
  {
   "cell_type": "code",
   "execution_count": 8,
   "id": "fa44c998-61ad-48c3-912a-16e591a9fc99",
   "metadata": {},
   "outputs": [
    {
     "name": "stdout",
     "output_type": "stream",
     "text": [
      "WARNING: Using high n_obs without `knn=True` takes a lot of memory...\n"
     ]
    },
    {
     "ename": "ValueError",
     "evalue": "X_scVI does not have enough Dimensions. Provide a Representation with equal or more dimensions than`n_pcs` or lower `n_pcs` ",
     "output_type": "error",
     "traceback": [
      "\u001b[0;31m---------------------------------------------------------------------------\u001b[0m",
      "\u001b[0;31mValueError\u001b[0m                                Traceback (most recent call last)",
      "Cell \u001b[0;32mIn[8], line 1\u001b[0m\n\u001b[0;32m----> 1\u001b[0m \u001b[43msc\u001b[49m\u001b[38;5;241;43m.\u001b[39;49m\u001b[43mpp\u001b[49m\u001b[38;5;241;43m.\u001b[39;49m\u001b[43mneighbors\u001b[49m\u001b[43m(\u001b[49m\n\u001b[1;32m      2\u001b[0m \u001b[43m    \u001b[49m\u001b[43madata\u001b[49m\u001b[43m \u001b[49m\u001b[38;5;241;43m=\u001b[39;49m\u001b[43m \u001b[49m\u001b[43madata\u001b[49m\u001b[43m,\u001b[49m\u001b[43m \u001b[49m\n\u001b[1;32m      3\u001b[0m \u001b[43m    \u001b[49m\u001b[43muse_rep\u001b[49m\u001b[43m \u001b[49m\u001b[38;5;241;43m=\u001b[39;49m\u001b[43m \u001b[49m\u001b[43mSCVI_LATENT_KEY\u001b[49m\u001b[43m,\u001b[49m\u001b[43m \u001b[49m\n\u001b[1;32m      4\u001b[0m \u001b[43m    \u001b[49m\u001b[43mn_neighbors\u001b[49m\u001b[43m \u001b[49m\u001b[38;5;241;43m=\u001b[39;49m\u001b[43m \u001b[49m\u001b[38;5;241;43m15\u001b[39;49m\u001b[43m,\u001b[49m\n\u001b[1;32m      5\u001b[0m \u001b[43m    \u001b[49m\u001b[43mn_pcs\u001b[49m\u001b[43m \u001b[49m\u001b[38;5;241;43m=\u001b[39;49m\u001b[43m \u001b[49m\u001b[38;5;241;43m50\u001b[39;49m\u001b[43m,\u001b[49m\n\u001b[1;32m      6\u001b[0m \u001b[43m    \u001b[49m\u001b[43mmethod\u001b[49m\u001b[43m \u001b[49m\u001b[38;5;241;43m=\u001b[39;49m\u001b[43m \u001b[49m\u001b[38;5;124;43m\"\u001b[39;49m\u001b[38;5;124;43mgauss\u001b[39;49m\u001b[38;5;124;43m\"\u001b[39;49m\u001b[43m,\u001b[49m\n\u001b[1;32m      7\u001b[0m \u001b[43m    \u001b[49m\u001b[43mknn\u001b[49m\u001b[43m \u001b[49m\u001b[38;5;241;43m=\u001b[39;49m\u001b[43m \u001b[49m\u001b[38;5;28;43;01mFalse\u001b[39;49;00m\n\u001b[1;32m      8\u001b[0m \u001b[43m)\u001b[49m\n\u001b[1;32m      9\u001b[0m sc\u001b[38;5;241m.\u001b[39mtl\u001b[38;5;241m.\u001b[39mleiden(\n\u001b[1;32m     10\u001b[0m     adata,\n\u001b[1;32m     11\u001b[0m     flavor \u001b[38;5;241m=\u001b[39m \u001b[38;5;124m\"\u001b[39m\u001b[38;5;124migraph\u001b[39m\u001b[38;5;124m\"\u001b[39m,\n\u001b[1;32m     12\u001b[0m     resolution \u001b[38;5;241m=\u001b[39m \u001b[38;5;241m1\u001b[39m,\n\u001b[1;32m     13\u001b[0m     n_iterations \u001b[38;5;241m=\u001b[39m \u001b[38;5;241m10\u001b[39m\n\u001b[1;32m     14\u001b[0m )\n",
      "File \u001b[0;32m~/.conda/envs/scvi-env/lib/python3.12/site-packages/scanpy/neighbors/__init__.py:179\u001b[0m, in \u001b[0;36mneighbors\u001b[0;34m(adata, n_neighbors, n_pcs, use_rep, knn, method, transformer, metric, metric_kwds, random_state, key_added, copy)\u001b[0m\n\u001b[1;32m    177\u001b[0m     adata\u001b[38;5;241m.\u001b[39m_init_as_actual(adata\u001b[38;5;241m.\u001b[39mcopy())\n\u001b[1;32m    178\u001b[0m neighbors \u001b[38;5;241m=\u001b[39m Neighbors(adata)\n\u001b[0;32m--> 179\u001b[0m \u001b[43mneighbors\u001b[49m\u001b[38;5;241;43m.\u001b[39;49m\u001b[43mcompute_neighbors\u001b[49m\u001b[43m(\u001b[49m\n\u001b[1;32m    180\u001b[0m \u001b[43m    \u001b[49m\u001b[43mn_neighbors\u001b[49m\u001b[43m,\u001b[49m\n\u001b[1;32m    181\u001b[0m \u001b[43m    \u001b[49m\u001b[43mn_pcs\u001b[49m\u001b[38;5;241;43m=\u001b[39;49m\u001b[43mn_pcs\u001b[49m\u001b[43m,\u001b[49m\n\u001b[1;32m    182\u001b[0m \u001b[43m    \u001b[49m\u001b[43muse_rep\u001b[49m\u001b[38;5;241;43m=\u001b[39;49m\u001b[43muse_rep\u001b[49m\u001b[43m,\u001b[49m\n\u001b[1;32m    183\u001b[0m \u001b[43m    \u001b[49m\u001b[43mknn\u001b[49m\u001b[38;5;241;43m=\u001b[39;49m\u001b[43mknn\u001b[49m\u001b[43m,\u001b[49m\n\u001b[1;32m    184\u001b[0m \u001b[43m    \u001b[49m\u001b[43mmethod\u001b[49m\u001b[38;5;241;43m=\u001b[39;49m\u001b[43mmethod\u001b[49m\u001b[43m,\u001b[49m\n\u001b[1;32m    185\u001b[0m \u001b[43m    \u001b[49m\u001b[43mtransformer\u001b[49m\u001b[38;5;241;43m=\u001b[39;49m\u001b[43mtransformer\u001b[49m\u001b[43m,\u001b[49m\n\u001b[1;32m    186\u001b[0m \u001b[43m    \u001b[49m\u001b[43mmetric\u001b[49m\u001b[38;5;241;43m=\u001b[39;49m\u001b[43mmetric\u001b[49m\u001b[43m,\u001b[49m\n\u001b[1;32m    187\u001b[0m \u001b[43m    \u001b[49m\u001b[43mmetric_kwds\u001b[49m\u001b[38;5;241;43m=\u001b[39;49m\u001b[43mmetric_kwds\u001b[49m\u001b[43m,\u001b[49m\n\u001b[1;32m    188\u001b[0m \u001b[43m    \u001b[49m\u001b[43mrandom_state\u001b[49m\u001b[38;5;241;43m=\u001b[39;49m\u001b[43mrandom_state\u001b[49m\u001b[43m,\u001b[49m\n\u001b[1;32m    189\u001b[0m \u001b[43m\u001b[49m\u001b[43m)\u001b[49m\n\u001b[1;32m    191\u001b[0m \u001b[38;5;28;01mif\u001b[39;00m key_added \u001b[38;5;129;01mis\u001b[39;00m \u001b[38;5;28;01mNone\u001b[39;00m:\n\u001b[1;32m    192\u001b[0m     key_added \u001b[38;5;241m=\u001b[39m \u001b[38;5;124m\"\u001b[39m\u001b[38;5;124mneighbors\u001b[39m\u001b[38;5;124m\"\u001b[39m\n",
      "File \u001b[0;32m~/.conda/envs/scvi-env/lib/python3.12/site-packages/scanpy/neighbors/__init__.py:563\u001b[0m, in \u001b[0;36mNeighbors.compute_neighbors\u001b[0;34m(self, n_neighbors, n_pcs, use_rep, knn, method, transformer, metric, metric_kwds, random_state)\u001b[0m\n\u001b[1;32m    561\u001b[0m \u001b[38;5;28mself\u001b[39m\u001b[38;5;241m.\u001b[39mn_neighbors \u001b[38;5;241m=\u001b[39m n_neighbors\n\u001b[1;32m    562\u001b[0m \u001b[38;5;28mself\u001b[39m\u001b[38;5;241m.\u001b[39mknn \u001b[38;5;241m=\u001b[39m knn\n\u001b[0;32m--> 563\u001b[0m X \u001b[38;5;241m=\u001b[39m \u001b[43m_choose_representation\u001b[49m\u001b[43m(\u001b[49m\u001b[38;5;28;43mself\u001b[39;49m\u001b[38;5;241;43m.\u001b[39;49m\u001b[43m_adata\u001b[49m\u001b[43m,\u001b[49m\u001b[43m \u001b[49m\u001b[43muse_rep\u001b[49m\u001b[38;5;241;43m=\u001b[39;49m\u001b[43muse_rep\u001b[49m\u001b[43m,\u001b[49m\u001b[43m \u001b[49m\u001b[43mn_pcs\u001b[49m\u001b[38;5;241;43m=\u001b[39;49m\u001b[43mn_pcs\u001b[49m\u001b[43m)\u001b[49m\n\u001b[1;32m    564\u001b[0m \u001b[38;5;28mself\u001b[39m\u001b[38;5;241m.\u001b[39m_distances \u001b[38;5;241m=\u001b[39m transformer\u001b[38;5;241m.\u001b[39mfit_transform(X)\n\u001b[1;32m    565\u001b[0m knn_indices, knn_distances \u001b[38;5;241m=\u001b[39m _get_indices_distances_from_sparse_matrix(\n\u001b[1;32m    566\u001b[0m     \u001b[38;5;28mself\u001b[39m\u001b[38;5;241m.\u001b[39m_distances, n_neighbors\n\u001b[1;32m    567\u001b[0m )\n",
      "File \u001b[0;32m~/.conda/envs/scvi-env/lib/python3.12/site-packages/scanpy/tools/_utils.py:55\u001b[0m, in \u001b[0;36m_choose_representation\u001b[0;34m(adata, use_rep, n_pcs, silent)\u001b[0m\n\u001b[1;32m     53\u001b[0m \u001b[38;5;28;01mif\u001b[39;00m use_rep \u001b[38;5;129;01min\u001b[39;00m adata\u001b[38;5;241m.\u001b[39mobsm\u001b[38;5;241m.\u001b[39mkeys() \u001b[38;5;129;01mand\u001b[39;00m n_pcs \u001b[38;5;129;01mis\u001b[39;00m \u001b[38;5;129;01mnot\u001b[39;00m \u001b[38;5;28;01mNone\u001b[39;00m:\n\u001b[1;32m     54\u001b[0m     \u001b[38;5;28;01mif\u001b[39;00m n_pcs \u001b[38;5;241m>\u001b[39m adata\u001b[38;5;241m.\u001b[39mobsm[use_rep]\u001b[38;5;241m.\u001b[39mshape[\u001b[38;5;241m1\u001b[39m]:\n\u001b[0;32m---> 55\u001b[0m         \u001b[38;5;28;01mraise\u001b[39;00m \u001b[38;5;167;01mValueError\u001b[39;00m(\n\u001b[1;32m     56\u001b[0m             \u001b[38;5;124mf\u001b[39m\u001b[38;5;124m\"\u001b[39m\u001b[38;5;132;01m{\u001b[39;00muse_rep\u001b[38;5;132;01m}\u001b[39;00m\u001b[38;5;124m does not have enough Dimensions. Provide a \u001b[39m\u001b[38;5;124m\"\u001b[39m\n\u001b[1;32m     57\u001b[0m             \u001b[38;5;124m\"\u001b[39m\u001b[38;5;124mRepresentation with equal or more dimensions than\u001b[39m\u001b[38;5;124m\"\u001b[39m\n\u001b[1;32m     58\u001b[0m             \u001b[38;5;124m\"\u001b[39m\u001b[38;5;124m`n_pcs` or lower `n_pcs` \u001b[39m\u001b[38;5;124m\"\u001b[39m\n\u001b[1;32m     59\u001b[0m         )\n\u001b[1;32m     60\u001b[0m     X \u001b[38;5;241m=\u001b[39m adata\u001b[38;5;241m.\u001b[39mobsm[use_rep][:, :n_pcs]\n\u001b[1;32m     61\u001b[0m \u001b[38;5;28;01melif\u001b[39;00m use_rep \u001b[38;5;129;01min\u001b[39;00m adata\u001b[38;5;241m.\u001b[39mobsm\u001b[38;5;241m.\u001b[39mkeys() \u001b[38;5;129;01mand\u001b[39;00m n_pcs \u001b[38;5;129;01mis\u001b[39;00m \u001b[38;5;28;01mNone\u001b[39;00m:\n",
      "\u001b[0;31mValueError\u001b[0m: X_scVI does not have enough Dimensions. Provide a Representation with equal or more dimensions than`n_pcs` or lower `n_pcs` "
     ]
    }
   ],
   "source": [
    "sc.pp.neighbors(\n",
    "    adata = adata, \n",
    "    use_rep = SCVI_LATENT_KEY, \n",
    "    n_neighbors = 15,\n",
    "    n_pcs = 50,\n",
    "    method = \"gauss\",\n",
    "    knn = False\n",
    ")\n",
    "sc.tl.leiden(\n",
    "    adata,\n",
    "    flavor = \"igraph\",\n",
    "    resolution = 1,\n",
    "    n_iterations = 10\n",
    ")"
   ]
  },
  {
   "cell_type": "code",
   "execution_count": null,
   "id": "a2f4722e-4743-4390-8d09-f4c6eeff369d",
   "metadata": {},
   "outputs": [],
   "source": [
    "SCVI_MDE_KEY = \"X_scVI_MDE\"\n",
    "adata.obsm[SCVI_MDE_KEY] = scvi.model.utils.mde(adata.obsm[SCVI_LATENT_KEY])"
   ]
  },
  {
   "cell_type": "code",
   "execution_count": null,
   "id": "b960df44-e1f9-488e-95d7-7b535000fa95",
   "metadata": {},
   "outputs": [],
   "source": [
    "sc.pl.embedding(\n",
    "    adata = adata,\n",
    "    basis = SCVI_MDE_KEY,\n",
    "    color = [\"sample\", \"leiden\", \"numbat_p\", \"seurat_clusters\"],\n",
    "    frameon = False,\n",
    "    ncols = 2,\n",
    ")"
   ]
  },
  {
   "cell_type": "code",
   "execution_count": null,
   "id": "f77e511c-7462-487f-8ac8-2d360ed83d9f",
   "metadata": {},
   "outputs": [],
   "source": [
    "adata.write_h5ad(\"/vast/scratch/users/moore.z/pdo_compar/data/intermed/snrnaseq/scvi_all_integrated.h5ad\")"
   ]
  },
  {
   "cell_type": "code",
   "execution_count": null,
   "id": "b0a7b5f7-5abd-461c-9b8a-d5f209a31356",
   "metadata": {},
   "outputs": [],
   "source": [
    "change_per_cluster = scvi_model.differential_expression(\n",
    "    adata = adata, \n",
    "    groupby = \"leiden\", \n",
    "    batch_correction = True,\n",
    "    filter_outlier_cells = False\n",
    ")"
   ]
  },
  {
   "cell_type": "code",
   "execution_count": null,
   "id": "91a44a4c-5368-442f-8599-bd61c9ef08b9",
   "metadata": {},
   "outputs": [],
   "source": [
    "change_per_cluster\n",
    "change_per_cluster.to_csv(path_or_buf = \"/vast/scratch/users/moore.z/pdo_compar/data/intermed/snrnaseq/5_de_leiden_overall.csv\")"
   ]
  },
  {
   "cell_type": "code",
   "execution_count": null,
   "id": "4da101e7-5a86-45d9-b4ab-207bc51df305",
   "metadata": {},
   "outputs": [],
   "source": [
    "adata.write_h5ad(\"/vast/scratch/users/moore.z/pdo_compar/data/intermed/snrnaseq/6_overall_scvi.h5ad\")"
   ]
  },
  {
   "cell_type": "code",
   "execution_count": null,
   "id": "19ff036e-3bec-4f73-b43c-3fa8f51cd960",
   "metadata": {},
   "outputs": [],
   "source": [
    "# import scipy as sp\n",
    "# con = adata.obsp[\"connectivities\"]\n",
    "# dist = adata.obsp[\"distances\"]\n",
    "\n",
    "# con = pd.DataFrame(con)\n",
    "# dist = pd.DataFrame(dist)"
   ]
  },
  {
   "cell_type": "code",
   "execution_count": null,
   "id": "bf35fdb9-8303-4633-8e2a-fc472c6f6b61",
   "metadata": {},
   "outputs": [],
   "source": [
    "data_pdo_tis = pd.DataFrame()\n",
    "for x in list(adata.obs[\"leiden\"].unique()):\n",
    "    res_pdo_tis = scvi_model.differential_expression(\n",
    "    adata = adata, \n",
    "    groupby = \"leiden\",\n",
    "    group1 = x,\n",
    "    group2 = x,\n",
    "    batch_correction = True,\n",
    "    batchid1 = [\"GL0095_PDO\"],\n",
    "    batchid2 = [\"GL0095_T\"]\n",
    ")\n",
    "    data_pdo_tis = pd.concat([data_pdo_tis, res_pdo_tis])\n",
    "\n",
    "data_pdn_tis = pd.DataFrame()\n",
    "for x in list(adata.obs[\"leiden\"].unique()):\n",
    "    res_pdn_tis = scvi_model.differential_expression(\n",
    "    adata = adata, \n",
    "    groupby = \"leiden\",\n",
    "    group1 = x,\n",
    "    group2 = x,\n",
    "    batch_correction = True,\n",
    "    batchid1 = [\"GL0095_PDN\"],\n",
    "    batchid2 = [\"GL0095_T\"]\n",
    ")\n",
    "    data_pdn_tis = pd.concat([data_pdn_tis, res_pdn_tis])\n",
    "\n",
    "data_pdn_pdo = pd.DataFrame()\n",
    "for x in list(adata.obs[\"leiden\"].unique()):\n",
    "    res_pdn_pdo = scvi_model.differential_expression(\n",
    "    adata = adata, \n",
    "    groupby = \"leiden\",\n",
    "    group1 = x,\n",
    "    group2 = x,\n",
    "    batch_correction = True,\n",
    "    batchid1 = [\"GL0095_PDN\"],\n",
    "    batchid2 = [\"GL0095_PDO\"]\n",
    ")\n",
    "    data_pdn_pdo = pd.concat([data_pdn_pdo, res_pdn_pdo])"
   ]
  },
  {
   "cell_type": "code",
   "execution_count": null,
   "id": "d10685d9-60e0-4fa1-88ca-ed28c11736a6",
   "metadata": {},
   "outputs": [],
   "source": [
    "data_pdn_tis.to_csv(path_or_buf = \"/vast/scratch/users/moore.z/pdo_pdn_comparison/data/processed/2_1_scvi/GL0095_PDN_TIS.csv\")\n",
    "data_pdo_tis.to_csv(path_or_buf = \"/vast/scratch/users/moore.z/pdo_pdn_comparison/data/processed/2_1_scvi/GL0095_PDO_TIS.csv\")\n",
    "data_pdn_pdo.to_csv(path_or_buf = \"/vast/scratch/users/moore.z/pdo_pdn_comparison/data/processed/2_1_scvi/GL0095_PDN_PDO.csv\")"
   ]
  },
  {
   "cell_type": "code",
   "execution_count": null,
   "id": "50645ba0-fdcd-47b4-8ed0-2009c00f13a5",
   "metadata": {},
   "outputs": [],
   "source": [
    "norm_matrix = scvi_model.get_normalized_expression(\n",
    "    adata = adata,\n",
    "    transform_batch = [\"GL0095_PDN\", \"GL0095_PDO\", \"GL0095_T\"],\n",
    "    # library_size = \"latent\"\n",
    "    library_size = 1\n",
    ") "
   ]
  },
  {
   "cell_type": "code",
   "execution_count": null,
   "id": "56577ba4-4add-45cd-92cd-f816f558d143",
   "metadata": {},
   "outputs": [],
   "source": [
    "norm_matrix.transpose().to_csv(path_or_buf=\"/vast/scratch/users/moore.z/pdo_pdn_comparison/data/processed/2_1_scvi/GL0095_norm.csv\")"
   ]
  },
  {
   "cell_type": "code",
   "execution_count": null,
   "id": "cd29e36e-9b05-4ee1-9f28-d4617332c59a",
   "metadata": {},
   "outputs": [],
   "source": [
    "#ref_adata.write_h5ad(\"/vast/scratch/users/moore.z/pdo_pdn_comparison/data/processed/3_scvi/GL0095_post.h5ad\")"
   ]
  },
  {
   "cell_type": "code",
   "execution_count": null,
   "id": "5ad8742d-7f16-4901-8cf7-e20f2c2e805e",
   "metadata": {},
   "outputs": [],
   "source": [
    "latent_dims = adata.obsm[\"X_scVI\"]\n",
    "latent_dims = pd.DataFrame(latent_dims)\n",
    "latent_dims.to_csv(path_or_buf = \"/vast/scratch/users/moore.z/pdo_pdn_comparison/data/processed/2_1_scvi/GL0095_latent_dims.csv\")\n",
    "mde_dims = adata.obsm[\"X_scVI_MDE\"]\n",
    "mde_dims = pd.DataFrame(mde_dims)\n",
    "mde_dims.to_csv(path_or_buf = \"/vast/scratch/users/moore.z/pdo_pdn_comparison/data/processed/2_1_scvi/GL0095_MDE.csv\")"
   ]
  },
  {
   "cell_type": "code",
   "execution_count": null,
   "id": "5258e2cb-cdc0-4395-9c92-f223e206a882",
   "metadata": {},
   "outputs": [],
   "source": [
    "leiden = adata.obs[\"leiden\"]\n",
    "leiden = pd.DataFrame(leiden)\n",
    "leiden.to_csv(path_or_buf = \"/vast/scratch/users/moore.z/pdo_pdn_comparison/data/processed/2_1_scvi/GL0095_leiden.csv\")"
   ]
  },
  {
   "cell_type": "code",
   "execution_count": null,
   "id": "d626bc73-7484-4c33-b7f5-7ad0d76af885",
   "metadata": {},
   "outputs": [],
   "source": [
    "reference_adata = sc.read(\"/vast/scratch/users/moore.z/pdo_pdn_comparison/data/processed/scanvi_couturier/couturier.h5ad\")\n",
    "reference_adata"
   ]
  },
  {
   "cell_type": "code",
   "execution_count": null,
   "id": "2977814e-17af-4a39-b5ae-32b377070b43",
   "metadata": {},
   "outputs": [],
   "source": [
    "reference_adata = reference_adata[:, reference_adata.var_names.intersection(intersection)]\n",
    "reference_adata"
   ]
  },
  {
   "cell_type": "code",
   "execution_count": null,
   "id": "6c495f19-71ad-4af3-84bb-fdb1c47d3147",
   "metadata": {},
   "outputs": [],
   "source": [
    "import scipy \n",
    "reference_adata.X = scipy.sparse.csr_matrix(reference_adata.X)\n",
    "\n",
    "reference_adata.layers[\"counts\"] = reference_adata.X.copy()\n",
    "reference_adata"
   ]
  },
  {
   "cell_type": "code",
   "execution_count": null,
   "id": "3043a84e-b613-4899-9c92-b73ecc3aca56",
   "metadata": {},
   "outputs": [],
   "source": [
    "scvi.model.SCVI.setup_anndata(\n",
    "    reference_adata, \n",
    "    batch_key = \"Sample\", \n",
    "    layer = \"counts\"\n",
    ")\n",
    "\n",
    "scvi_reference_model = scvi.model.SCVI(\n",
    "    adata = reference_adata,\n",
    "    n_hidden = 128,\n",
    "    n_latent = 50,\n",
    "    dispersion = \"gene-batch\"\n",
    ")\n",
    "# train model \n",
    "# model.train()\n",
    "# scvi.settings.dl_num_workers = 11\n",
    "scvi_reference_model.train(\n",
    "    max_epochs = 1000, \n",
    "    early_stopping = True\n",
    ")"
   ]
  },
  {
   "cell_type": "code",
   "execution_count": null,
   "id": "6704a568-437c-4e0c-ba62-df9ae6d69c52",
   "metadata": {},
   "outputs": [],
   "source": [
    "scvi_reference_model.history[\"elbo_validation\"].plot()"
   ]
  },
  {
   "cell_type": "code",
   "execution_count": null,
   "id": "532e090b-e886-4661-84ef-c41f475b25f4",
   "metadata": {},
   "outputs": [],
   "source": [
    "SCVI_LATENT_KEY = \"X_scVI\"\n",
    "reference_adata.obsm[SCVI_LATENT_KEY] = scvi_reference_model.get_latent_representation()"
   ]
  },
  {
   "cell_type": "code",
   "execution_count": null,
   "id": "ec8c4953-5adb-4bab-9d0d-f7107540b921",
   "metadata": {},
   "outputs": [],
   "source": [
    "sc.pp.neighbors(\n",
    "    adata = reference_adata, \n",
    "    use_rep = SCVI_LATENT_KEY, \n",
    "    n_neighbors = 15,\n",
    "    n_pcs = 50\n",
    ")\n",
    "sc.tl.leiden(\n",
    "    reference_adata,\n",
    "    flavor = \"igraph\",\n",
    "    resolution = 1,\n",
    "    n_iterations = 10\n",
    ")"
   ]
  },
  {
   "cell_type": "code",
   "execution_count": null,
   "id": "2d1d6ee4-13d5-4542-a262-f13bb1391d2f",
   "metadata": {},
   "outputs": [],
   "source": [
    "SCVI_MDE_KEY = \"X_scVI_MDE\"\n",
    "reference_adata.obsm[SCVI_MDE_KEY] = scvi.model.utils.mde(reference_adata.obsm[SCVI_LATENT_KEY])"
   ]
  },
  {
   "cell_type": "code",
   "execution_count": null,
   "id": "bc3fcacc-6981-48bd-83e1-ffbe225905a5",
   "metadata": {},
   "outputs": [],
   "source": [
    "sc.pl.embedding(\n",
    "    adata = reference_adata,\n",
    "    basis = SCVI_MDE_KEY,\n",
    "    color = [\"sample\", \"leiden\"],\n",
    "    # legend_loc = \"on data\",\n",
    "    frameon = False,\n",
    "    ncols = 2,\n",
    ")"
   ]
  },
  {
   "cell_type": "code",
   "execution_count": null,
   "id": "e7cf0f8e-c4e2-4244-9f7c-93b84274128d",
   "metadata": {},
   "outputs": [],
   "source": []
  }
 ],
 "metadata": {
  "kernelspec": {
   "display_name": "scvi-env",
   "language": "python",
   "name": "scvi-env"
  },
  "language_info": {
   "codemirror_mode": {
    "name": "ipython",
    "version": 3
   },
   "file_extension": ".py",
   "mimetype": "text/x-python",
   "name": "python",
   "nbconvert_exporter": "python",
   "pygments_lexer": "ipython3",
   "version": "3.12.5"
  }
 },
 "nbformat": 4,
 "nbformat_minor": 5
}
