{
 "cells": [
  {
   "cell_type": "code",
   "execution_count": 1,
   "id": "73048861-3ec1-49fa-aab6-07b8ab9e0d93",
   "metadata": {},
   "outputs": [
    {
     "name": "stderr",
     "output_type": "stream",
     "text": [
      "/home/users/allstaff/moore.z/.conda/envs/scvi/lib/python3.11/site-packages/tqdm/auto.py:21: TqdmWarning: IProgress not found. Please update jupyter and ipywidgets. See https://ipywidgets.readthedocs.io/en/stable/user_install.html\n",
      "  from .autonotebook import tqdm as notebook_tqdm\n",
      "WARNING:root:In order to use the mouse gastrulation seqFISH datsets, please install squidpy (see https://github.com/scverse/squidpy).\n",
      "WARNING:root:In order to use sagenet models, please install pytorch geometric (see https://pytorch-geometric.readthedocs.io) and \n",
      " captum (see https://github.com/pytorch/captum).\n",
      "WARNING:root:mvTCR is not installed. To use mvTCR models, please install it first using \"pip install mvtcr\"\n",
      "WARNING:root:multigrate is not installed. To use multigrate models, please install it first using \"pip install multigrate\".\n"
     ]
    }
   ],
   "source": [
    "import scvi\n",
    "import os\n",
    "import tempfile\n",
    "import scanpy as sc\n",
    "import scarches as sca\n",
    "import seaborn as sns\n",
    "import torch\n",
    "import pandas as pd\n",
    "from rich import print\n",
    "import numpy as np\n",
    "import matplotlib.pyplot as plt\n",
    "import skmisc"
   ]
  },
  {
   "cell_type": "code",
   "execution_count": 2,
   "id": "efea7462-ec25-4831-89a7-b5ef56cf894d",
   "metadata": {},
   "outputs": [
    {
     "name": "stderr",
     "output_type": "stream",
     "text": [
      "[rank: 0] Seed set to 42\n"
     ]
    }
   ],
   "source": [
    "scvi.settings.seed = 42\n",
    "torch.set_float32_matmul_precision('high')"
   ]
  },
  {
   "cell_type": "code",
   "execution_count": 3,
   "id": "e2a26183-6ae5-4beb-a018-9e55886e75e5",
   "metadata": {},
   "outputs": [
    {
     "data": {
      "text/plain": [
       "AnnData object with n_obs × n_vars = 550 × 19463\n",
       "    obs: 'bc_wells', 'sample', 'species', 'gene_count', 'tscp_count', 'mread_count', 'bc1_wind', 'bc2_wind', 'bc3_wind', 'bc1_well', 'bc2_well', 'bc3_well', 'doublet_score', 'predicted_doublets', 'sum', 'detected', 'subsets_mito_sum', 'subsets_mito_detected', 'subsets_mito_percent', 'total', 'low_lib_size', 'low_n_features', 'high_subsets_mito_percent', 'discard', 'discard_mito', 'discard_feature', 'discard_final', 'sizeFactor', 'leiden_individual'\n",
       "    var: 'gene_id', 'gene_name', 'genome', 'gene_version', 'gene_source', 'gene_biotype'\n",
       "    uns: 'X_name'\n",
       "    layers: 'logcounts'"
      ]
     },
     "execution_count": 3,
     "metadata": {},
     "output_type": "execute_result"
    }
   ],
   "source": [
    "adata = sc.read(\"/vast/scratch/users/moore.z/pdo_pdn_comparison/data/processed/2_5_tumour_only/GL0128_tumour.h5ad\")\n",
    "adata"
   ]
  },
  {
   "cell_type": "code",
   "execution_count": 4,
   "id": "0e7fb382-4246-4fc6-a80c-1905d3995cb6",
   "metadata": {},
   "outputs": [],
   "source": [
    "sc.pp.highly_variable_genes(\n",
    "    adata = adata, \n",
    "    flavor = \"seurat_v3\",\n",
    "    n_top_genes = 5000, \n",
    "    subset = True\n",
    ")"
   ]
  },
  {
   "cell_type": "code",
   "execution_count": 5,
   "id": "ad7798d7-c7a6-4c47-8419-6509f3b2cad6",
   "metadata": {},
   "outputs": [
    {
     "name": "stderr",
     "output_type": "stream",
     "text": [
      "GPU available: True (cuda), used: True\n",
      "TPU available: False, using: 0 TPU cores\n",
      "IPU available: False, using: 0 IPUs\n",
      "HPU available: False, using: 0 HPUs\n",
      "LOCAL_RANK: 0 - CUDA_VISIBLE_DEVICES: [0]\n",
      "SLURM auto-requeueing enabled. Setting signal handlers.\n",
      "/home/users/allstaff/moore.z/.conda/envs/scvi/lib/python3.11/site-packages/lightning/pytorch/trainer/connectors/data_connector.py:441: The 'train_dataloader' does not have many workers which may be a bottleneck. Consider increasing the value of the `num_workers` argument` to `num_workers=15` in the `DataLoader` to improve performance.\n",
      "/home/users/allstaff/moore.z/.conda/envs/scvi/lib/python3.11/site-packages/lightning/pytorch/loops/fit_loop.py:293: The number of training batches (4) is smaller than the logging interval Trainer(log_every_n_steps=10). Set a lower value for log_every_n_steps if you want to see logs for the training epoch.\n",
      "/home/users/allstaff/moore.z/.conda/envs/scvi/lib/python3.11/site-packages/lightning/pytorch/trainer/connectors/data_connector.py:441: The 'val_dataloader' does not have many workers which may be a bottleneck. Consider increasing the value of the `num_workers` argument` to `num_workers=15` in the `DataLoader` to improve performance.\n"
     ]
    },
    {
     "name": "stdout",
     "output_type": "stream",
     "text": [
      "Epoch 223/1000:  22%|██▏       | 223/1000 [00:08<00:30, 25.17it/s, v_num=1, train_loss_step=2.33e+3, train_loss_epoch=2.39e+3]\n",
      "Monitored metric elbo_validation did not improve in the last 45 records. Best score: 2699.300. Signaling Trainer to stop.\n"
     ]
    }
   ],
   "source": [
    "# integration with scVI\n",
    "scvi.model.SCVI.setup_anndata(\n",
    "    adata = adata, \n",
    "    batch_key = \"sample\"\n",
    ")\n",
    "# create model\n",
    "scvi_model = scvi.model.SCVI(\n",
    "    adata = adata,\n",
    "    n_hidden = 128,\n",
    "    n_latent = 50,\n",
    "    dispersion = \"gene-batch\"\n",
    ")\n",
    "# train model\n",
    "# scvi.settings.dl_num_workers = 15\n",
    "scvi_model.train(\n",
    "    max_epochs = 1000, \n",
    "    early_stopping = True\n",
    ")"
   ]
  },
  {
   "cell_type": "code",
   "execution_count": null,
   "id": "4a6b315e-2418-4f5c-9818-eb656387cd65",
   "metadata": {},
   "outputs": [],
   "source": [
    "train_test_results = scvi_model.history[\"elbo_train\"]\n",
    "train_test_results[\"elbo_validation\"] = scvi_model.history[\"elbo_validation\"]\n",
    "train_test_results.iloc[10:].plot(logy = True)  # exclude first 10 epochs\n",
    "plt.show()"
   ]
  },
  {
   "cell_type": "code",
   "execution_count": 6,
   "id": "da7e137c-211e-4cd9-9ed8-38a6a43076c1",
   "metadata": {},
   "outputs": [],
   "source": [
    "SCVI_LATENT_KEY = \"X_scVI\"\n",
    "adata.obsm[SCVI_LATENT_KEY] = scvi_model.get_latent_representation()"
   ]
  },
  {
   "cell_type": "code",
   "execution_count": 7,
   "id": "c0d991ef-0e8f-42f6-ac6b-6dd718ee4ae6",
   "metadata": {},
   "outputs": [],
   "source": [
    "sc.pp.neighbors(\n",
    "    adata = adata, \n",
    "    use_rep = SCVI_LATENT_KEY, \n",
    "    n_neighbors = 15,\n",
    "    n_pcs = 50,\n",
    "    method = \"gauss\",\n",
    "    knn = False\n",
    ")\n",
    "# sc.tl.umap(\n",
    "#     adata = adata, \n",
    "#     min_dist = 0.005\n",
    "# )"
   ]
  },
  {
   "cell_type": "code",
   "execution_count": 8,
   "id": "fb0ca72f-1057-4eec-992e-0050a8ac3073",
   "metadata": {},
   "outputs": [],
   "source": [
    "sc.tl.leiden(\n",
    "    adata,\n",
    "    flavor = \"igraph\",\n",
    "    resolution = 1.25,\n",
    "    # n_iterations = 10\n",
    ")"
   ]
  },
  {
   "cell_type": "code",
   "execution_count": 9,
   "id": "803ead4d-3392-4f23-ba48-65d0bbc59912",
   "metadata": {},
   "outputs": [
    {
     "name": "stdout",
     "output_type": "stream",
     "text": [
      "INFO     Using cuda:0 for `pymde.preserve_neighbors`.                                                              \n"
     ]
    }
   ],
   "source": [
    "SCVI_MDE_KEY = \"X_scVI_MDE\"\n",
    "adata.obsm[SCVI_MDE_KEY] = scvi.model.utils.mde(adata.obsm[SCVI_LATENT_KEY])"
   ]
  },
  {
   "cell_type": "code",
   "execution_count": null,
   "id": "2bf6017c-1a15-42e5-8584-dbe6fbd1fa67",
   "metadata": {},
   "outputs": [],
   "source": [
    "sc.pl.embedding(\n",
    "    adata = adata,\n",
    "    basis = SCVI_MDE_KEY,\n",
    "    color = [\"sample\", \"leiden\"],\n",
    "    # legend_loc = \"on data\",\n",
    "    frameon = False,\n",
    "    ncols = 2\n",
    ")"
   ]
  },
  {
   "cell_type": "code",
   "execution_count": 12,
   "id": "bbed7237-a616-44ea-8b86-4bafb98fa0cd",
   "metadata": {},
   "outputs": [],
   "source": [
    "adata.write_h5ad(\"/vast/scratch/users/moore.z/pdo_pdn_comparison/data/processed/2_5_tumour_only/GL0128_tumour_scvi.h5ad\")"
   ]
  },
  {
   "cell_type": "code",
   "execution_count": 13,
   "id": "92429037-5cc6-46e3-bcb3-670fb3de12eb",
   "metadata": {},
   "outputs": [
    {
     "name": "stdout",
     "output_type": "stream",
     "text": [
      "DE...: 100%|██████████| 7/7 [00:07<00:00,  1.06s/it]\n"
     ]
    }
   ],
   "source": [
    "change_per_cluster = scvi_model.differential_expression(\n",
    "    adata = adata, \n",
    "    groupby = \"leiden\", \n",
    "    batch_correction = True,\n",
    "    filter_outlier_cells = False\n",
    ")"
   ]
  },
  {
   "cell_type": "code",
   "execution_count": 15,
   "id": "8a713ff6-67fe-4b15-add7-7b3df3c9f05f",
   "metadata": {},
   "outputs": [],
   "source": [
    "change_per_cluster.to_csv(path_or_buf = \"/vast/scratch/users/moore.z/pdo_pdn_comparison/data/processed/2_5_tumour_only/GL0128_change_per_clust.csv\")"
   ]
  },
  {
   "cell_type": "code",
   "execution_count": 16,
   "id": "376c76aa-4b70-4106-b42f-a0cddfd6cd6f",
   "metadata": {},
   "outputs": [],
   "source": [
    "import scipy as sp\n",
    "con = adata.obsp[\"connectivities\"]\n",
    "dist = adata.obsp[\"distances\"]"
   ]
  },
  {
   "cell_type": "code",
   "execution_count": 17,
   "id": "f470eb6f-721d-4229-b5d7-c460fd101106",
   "metadata": {},
   "outputs": [],
   "source": [
    "con = pd.DataFrame(con)\n",
    "dist = pd.DataFrame(dist)"
   ]
  },
  {
   "cell_type": "code",
   "execution_count": 18,
   "id": "6661213f-dc6e-423c-b98a-283dec560b2d",
   "metadata": {},
   "outputs": [],
   "source": [
    "con.to_csv(\"/vast/scratch/users/moore.z/pdo_pdn_comparison/data/processed/2_5_tumour_only/GL0128_con.csv\")\n",
    "dist.to_csv(\"/vast/scratch/users/moore.z/pdo_pdn_comparison/data/processed/2_5_tumour_only/GL0128_dist.csv\")"
   ]
  },
  {
   "cell_type": "code",
   "execution_count": null,
   "id": "0c8c95bb",
   "metadata": {},
   "outputs": [],
   "source": []
  }
 ],
 "metadata": {
  "kernelspec": {
   "display_name": "scvi",
   "language": "python",
   "name": "scvi"
  },
  "language_info": {
   "codemirror_mode": {
    "name": "ipython",
    "version": 3
   },
   "file_extension": ".py",
   "mimetype": "text/x-python",
   "name": "python",
   "nbconvert_exporter": "python",
   "pygments_lexer": "ipython3",
   "version": "3.11.9"
  }
 },
 "nbformat": 4,
 "nbformat_minor": 5
}
